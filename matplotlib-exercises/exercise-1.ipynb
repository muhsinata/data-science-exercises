{
 "cells": [
  {
   "cell_type": "code",
   "execution_count": 1,
   "metadata": {},
   "outputs": [],
   "source": [
    "import numpy as np\n",
    "from matplotlib import pyplot as plt\n",
    "import random"
   ]
  },
  {
   "cell_type": "code",
   "execution_count": 2,
   "metadata": {},
   "outputs": [
    {
     "name": "stdout",
     "output_type": "stream",
     "text": [
      "[16, 22, 23, 28, 33, 44, 57, 61, 85, 92]\n",
      "[2, 23, 26, 40, 41, 42, 61, 82, 87, 96]\n",
      "[16, 17, 28, 36, 43, 69, 70, 88, 94, 99]\n"
     ]
    }
   ],
   "source": [
    "x_indexes = np.arange(10)\n",
    "\n",
    "y_value_1 = sorted(random.sample(range(1, 100), 10))\n",
    "y_value_2 = sorted(random.sample(range(1, 100), 10))\n",
    "y_value_3 = sorted(random.sample(range(1, 100), 10))\n",
    "\n",
    "x_values = sorted(random.sample(range(1, 100), 10))\n",
    "\n",
    "print(y_value_1)\n",
    "print(y_value_2)\n",
    "print(y_value_3)"
   ]
  },
  {
   "cell_type": "code",
   "execution_count": 3,
   "metadata": {},
   "outputs": [],
   "source": [
    "plt.style.use(\"fivethirtyeight\")"
   ]
  },
  {
   "cell_type": "code",
   "execution_count": 5,
   "metadata": {},
   "outputs": [
    {
     "data": {
      "image/png": "[encoded data removed]",
      "text/plain": [
       "<Figure size 432x288 with 1 Axes>"
      ]
     },
     "metadata": {
      "needs_background": "light"
     },
     "output_type": "display_data"
    }
   ],
   "source": [
    "width = 0.25\n",
    "\n",
    "plt.bar(x_indexes - width, y_value_1, width=width, color=\"#444444\", label=\"first\")\n",
    "plt.bar(x_indexes, y_value_2, width=width, color=\"#008fd5\", label=\"second\")\n",
    "plt.bar(x_indexes + width, y_value_3, width=width, color=\"#e5ae38\", label=\"third\")\n",
    "\n",
    "plt.title(\"Title\")\n",
    "plt.xlabel(\"x values\")\n",
    "plt.ylabel(\"y values\")\n",
    "plt.xticks(ticks=x_indexes, labels=x_values)\n",
    "plt.legend()\n",
    "\n",
    "plt.show()"
   ]
  }
 ],
 "metadata": {
  "kernelspec": {
   "display_name": "Python 3.10.5 64-bit",
   "language": "python",
   "name": "python3"
  },
  "language_info": {
   "codemirror_mode": {
    "name": "ipython",
    "version": 3
   },
   "file_extension": ".py",
   "mimetype": "text/x-python",
   "name": "python",
   "nbconvert_exporter": "python",
   "pygments_lexer": "ipython3",
   "version": "3.10.5"
  },
  "orig_nbformat": 4,
  "vscode": {
   "interpreter": {
    "hash": "de66d7802e14fb2e8694b63e255d0fe3514f0a531cbbfb87d1ecc51a74f4db4d"
   }
  }
 },
 "nbformat": 4,
 "nbformat_minor": 2
}
