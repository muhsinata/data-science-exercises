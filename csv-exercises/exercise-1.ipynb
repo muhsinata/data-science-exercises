{
 "cells": [
  {
   "cell_type": "code",
   "execution_count": 13,
   "metadata": {},
   "outputs": [],
   "source": [
    "import csv"
   ]
  },
  {
   "cell_type": "code",
   "execution_count": 14,
   "metadata": {},
   "outputs": [],
   "source": [
    "with open(\"names.csv\", \"r\") as csv_file:\n",
    "\n",
    "    csv_reader = csv.reader(csv_file)\n",
    "\n",
    "    with open(\"new_names.csv\", \"w\") as new_file:\n",
    "        csv_writer = csv.writer(new_file, delimiter=\"\\t\")        \n",
    "\n",
    "        for line in csv_reader:\n",
    "            csv_writer.writerow(line)"
   ]
  },
  {
   "cell_type": "code",
   "execution_count": 15,
   "metadata": {},
   "outputs": [
    {
     "name": "stdout",
     "output_type": "stream",
     "text": [
      "{'first_name': 'John', 'last_name': 'Doe', 'email': 'john-doe@bogusemail.com'}\n",
      "{'first_name': 'Mary', 'last_name': 'Smith-Robinson', 'email': 'maryjacobs@bogusemail.com'}\n",
      "{'first_name': 'Dave', 'last_name': 'Smith', 'email': 'davesmith@bogusemail.com'}\n",
      "{'first_name': 'Jane', 'last_name': 'Stuart', 'email': 'janestuart@bogusemail.com'}\n",
      "{'first_name': 'Tom', 'last_name': 'Wright', 'email': 'tomwright@bogusemail.com'}\n",
      "{'first_name': 'Steve', 'last_name': 'Robinson', 'email': 'steverobinson@bogusemail.com'}\n"
     ]
    }
   ],
   "source": [
    "with open(\"names.csv\", \"r\") as csv_file:\n",
    "\n",
    "    csv_reader = csv.DictReader(csv_file)\n",
    "\n",
    "    for line in csv_reader:\n",
    "        print(line)     "
   ]
  },
  {
   "cell_type": "code",
   "execution_count": 19,
   "metadata": {},
   "outputs": [],
   "source": [
    "with open(\"names.csv\", \"r\") as csv_file:\n",
    "\n",
    "    csv_reader = csv.DictReader(csv_file)\n",
    "\n",
    "    with open(\"new_names.csv\", \"w\") as new_file:\n",
    "\n",
    "        fieldnames = [\"first_name\", \"last_name\", \"email\"]\n",
    "        csv_dict_writer = csv.DictWriter(new_file, fieldnames=fieldnames)\n",
    "\n",
    "        for line in csv_reader:\n",
    "            csv_dict_writer.writerow(line)"
   ]
  },
  {
   "cell_type": "code",
   "execution_count": 20,
   "metadata": {},
   "outputs": [
    {
     "name": "stdout",
     "output_type": "stream",
     "text": [
      "{'John': 'Mary', 'Doe': 'Smith-Robinson', 'john-doe@bogusemail.com': 'maryjacobs@bogusemail.com'}\n",
      "{'John': 'Dave', 'Doe': 'Smith', 'john-doe@bogusemail.com': 'davesmith@bogusemail.com'}\n",
      "{'John': 'Jane', 'Doe': 'Stuart', 'john-doe@bogusemail.com': 'janestuart@bogusemail.com'}\n",
      "{'John': 'Tom', 'Doe': 'Wright', 'john-doe@bogusemail.com': 'tomwright@bogusemail.com'}\n",
      "{'John': 'Steve', 'Doe': 'Robinson', 'john-doe@bogusemail.com': 'steverobinson@bogusemail.com'}\n"
     ]
    }
   ],
   "source": [
    "with open(\"new_names.csv\", \"r\") as new_file:\n",
    "\n",
    "    csv_reader = csv.DictReader(new_file)\n",
    "\n",
    "    for line in csv_reader:\n",
    "        print(line)"
   ]
  }
 ],
 "metadata": {
  "kernelspec": {
   "display_name": "Python 3.10.5 64-bit",
   "language": "python",
   "name": "python3"
  },
  "language_info": {
   "codemirror_mode": {
    "name": "ipython",
    "version": 3
   },
   "file_extension": ".py",
   "mimetype": "text/x-python",
   "name": "python",
   "nbconvert_exporter": "python",
   "pygments_lexer": "ipython3",
   "version": "3.10.5"
  },
  "orig_nbformat": 4,
  "vscode": {
   "interpreter": {
    "hash": "de66d7802e14fb2e8694b63e255d0fe3514f0a531cbbfb87d1ecc51a74f4db4d"
   }
  }
 },
 "nbformat": 4,
 "nbformat_minor": 2
}
