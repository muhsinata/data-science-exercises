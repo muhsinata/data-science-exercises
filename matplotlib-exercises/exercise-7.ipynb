{
 "cells": [
  {
   "cell_type": "markdown",
   "metadata": {},
   "source": [
    "#### Subplots Exercise"
   ]
  },
  {
   "cell_type": "code",
   "execution_count": 2,
   "metadata": {},
   "outputs": [],
   "source": [
    "import pandas as pd\n",
    "import matplotlib.pyplot as plt"
   ]
  },
  {
   "cell_type": "code",
   "execution_count": 3,
   "metadata": {},
   "outputs": [],
   "source": [
    "# Get Data\n",
    "\n",
    "data = pd.read_csv(\"C:/Users/MSI/Desktop/data-science-projects/data/criterion_scary_movies.csv\")"
   ]
  },
  {
   "cell_type": "code",
   "execution_count": 4,
   "metadata": {},
   "outputs": [
    {
     "data": {
      "text/html": [
       "<div>\n",
       "<style scoped>\n",
       "    .dataframe tbody tr th:only-of-type {\n",
       "        vertical-align: middle;\n",
       "    }\n",
       "\n",
       "    .dataframe tbody tr th {\n",
       "        vertical-align: top;\n",
       "    }\n",
       "\n",
       "    .dataframe thead th {\n",
       "        text-align: right;\n",
       "    }\n",
       "</style>\n",
       "<table border=\"1\" class=\"dataframe\">\n",
       "  <thead>\n",
       "    <tr style=\"text-align: right;\">\n",
       "      <th></th>\n",
       "      <th>Movie</th>\n",
       "      <th>Director</th>\n",
       "      <th>Tagline</th>\n",
       "      <th>Country</th>\n",
       "      <th>Runtime</th>\n",
       "      <th>Certificate</th>\n",
       "      <th>Year</th>\n",
       "    </tr>\n",
       "  </thead>\n",
       "  <tbody>\n",
       "    <tr>\n",
       "      <th>0</th>\n",
       "      <td>Antichrist</td>\n",
       "      <td>Lars von Trier</td>\n",
       "      <td>NaN</td>\n",
       "      <td>Denmark</td>\n",
       "      <td>108</td>\n",
       "      <td>Not Rated</td>\n",
       "      <td>2009</td>\n",
       "    </tr>\n",
       "    <tr>\n",
       "      <th>1</th>\n",
       "      <td>The Blob</td>\n",
       "      <td>Irvin S. Yeaworth Jr.</td>\n",
       "      <td>Indescribable...indestructible...nothing can s...</td>\n",
       "      <td>United States</td>\n",
       "      <td>82</td>\n",
       "      <td>Not Rated</td>\n",
       "      <td>1958</td>\n",
       "    </tr>\n",
       "    <tr>\n",
       "      <th>2</th>\n",
       "      <td>Blood for Dracula</td>\n",
       "      <td>Paul Morrissey</td>\n",
       "      <td>He couldn't live without a virgin's blood...So...</td>\n",
       "      <td>United States</td>\n",
       "      <td>103</td>\n",
       "      <td>Not Rated</td>\n",
       "      <td>1974</td>\n",
       "    </tr>\n",
       "    <tr>\n",
       "      <th>3</th>\n",
       "      <td>The Brood</td>\n",
       "      <td>David Cronenberg</td>\n",
       "      <td>They're Waiting...For You!\"</td>\n",
       "      <td>Canada</td>\n",
       "      <td>92</td>\n",
       "      <td>R</td>\n",
       "      <td>1979</td>\n",
       "    </tr>\n",
       "    <tr>\n",
       "      <th>4</th>\n",
       "      <td>Carnival of Souls</td>\n",
       "      <td>Herk Harvey</td>\n",
       "      <td>She escaped death. Now it wants her back!</td>\n",
       "      <td>United States</td>\n",
       "      <td>78</td>\n",
       "      <td>Approved</td>\n",
       "      <td>1962</td>\n",
       "    </tr>\n",
       "  </tbody>\n",
       "</table>\n",
       "</div>"
      ],
      "text/plain": [
       "               Movie               Director  \\\n",
       "0         Antichrist         Lars von Trier   \n",
       "1           The Blob  Irvin S. Yeaworth Jr.   \n",
       "2  Blood for Dracula         Paul Morrissey   \n",
       "3          The Brood       David Cronenberg   \n",
       "4  Carnival of Souls            Herk Harvey   \n",
       "\n",
       "                                             Tagline        Country  Runtime  \\\n",
       "0                                                NaN        Denmark      108   \n",
       "1  Indescribable...indestructible...nothing can s...  United States       82   \n",
       "2  He couldn't live without a virgin's blood...So...  United States      103   \n",
       "3                        They're Waiting...For You!\"         Canada       92   \n",
       "4          She escaped death. Now it wants her back!  United States       78   \n",
       "\n",
       "  Certificate  Year  \n",
       "0   Not Rated  2009  \n",
       "1   Not Rated  1958  \n",
       "2   Not Rated  1974  \n",
       "3           R  1979  \n",
       "4    Approved  1962  "
      ]
     },
     "execution_count": 4,
     "metadata": {},
     "output_type": "execute_result"
    }
   ],
   "source": [
    "# Check Data \n",
    "\n",
    "data.head()"
   ]
  },
  {
   "cell_type": "code",
   "execution_count": 5,
   "metadata": {},
   "outputs": [],
   "source": [
    "# Split Data As Series\n",
    "\n",
    "year = data[\"Year\"]\n",
    "runtime = data[\"Runtime\"]"
   ]
  },
  {
   "cell_type": "code",
   "execution_count": 11,
   "metadata": {},
   "outputs": [
    {
     "data": {
      "image/png": "[encoded data removed]",
      "text/plain": [
       "<Figure size 576x396 with 4 Axes>"
      ]
     },
     "metadata": {},
     "output_type": "display_data"
    }
   ],
   "source": [
    "# Adjust Visual Features\n",
    "\n",
    "plt.style.use(\"seaborn\")\n",
    "\n",
    "# Create Plots\n",
    "\n",
    "fig, ax = plt.subplots(ncols=2, nrows=2)\n",
    "ax[0,0].scatter(year, runtime)\n",
    "ax[0,0].set_xlabel(\"Year\")\n",
    "ax[0,0].set_ylabel(\"Runtime\")\n",
    "\n",
    "ax[0,1].scatter(year, runtime)\n",
    "ax[0,1].set_xlabel(\"Year\")\n",
    "ax[0,1].set_ylabel(\"Runtime\")\n",
    "\n",
    "ax[1,1].scatter(year, runtime)\n",
    "ax[1,1].set_xlabel(\"Year\")\n",
    "ax[1,1].set_ylabel(\"Runtime\")\n",
    "\n",
    "ax[1,0].scatter(year, runtime)\n",
    "ax[1,0].set_xlabel(\"Year\")\n",
    "ax[1,0].set_ylabel(\"Runtime\")\n",
    "\n",
    "plt.tight_layout()\n",
    "plt.show()"
   ]
  }
 ],
 "metadata": {
  "kernelspec": {
   "display_name": "Python 3.10.5 64-bit",
   "language": "python",
   "name": "python3"
  },
  "language_info": {
   "codemirror_mode": {
    "name": "ipython",
    "version": 3
   },
   "file_extension": ".py",
   "mimetype": "text/x-python",
   "name": "python",
   "nbconvert_exporter": "python",
   "pygments_lexer": "ipython3",
   "version": "3.10.5"
  },
  "orig_nbformat": 4,
  "vscode": {
   "interpreter": {
    "hash": "de66d7802e14fb2e8694b63e255d0fe3514f0a531cbbfb87d1ecc51a74f4db4d"
   }
  }
 },
 "nbformat": 4,
 "nbformat_minor": 2
}
